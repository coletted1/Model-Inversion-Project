{
  "nbformat": 4,
  "nbformat_minor": 0,
  "metadata": {
    "colab": {
      "provenance": [],
      "mount_file_id": "1d-SVLTrsb6tP5AYsOz54jf2DSiQq6itk",
      "authorship_tag": "ABX9TyM2Mtorq+1ERkF/eg05b453",
      "include_colab_link": true
    },
    "kernelspec": {
      "name": "python3",
      "display_name": "Python 3"
    },
    "language_info": {
      "name": "python"
    },
    "widgets": {
      "application/vnd.jupyter.widget-state+json": {
        "3b4cfff7a1734729bc070a0a77c9c741": {
          "model_module": "@jupyter-widgets/controls",
          "model_name": "HBoxModel",
          "model_module_version": "1.5.0",
          "state": {
            "_dom_classes": [],
            "_model_module": "@jupyter-widgets/controls",
            "_model_module_version": "1.5.0",
            "_model_name": "HBoxModel",
            "_view_count": null,
            "_view_module": "@jupyter-widgets/controls",
            "_view_module_version": "1.5.0",
            "_view_name": "HBoxView",
            "box_style": "",
            "children": [
              "IPY_MODEL_269065285ded4861a05304e0f48a6196",
              "IPY_MODEL_5ff57c0e4b3f40f286c2ff88a7e4c604",
              "IPY_MODEL_e72f339dae744e0aaa06a83ce3192cf6"
            ],
            "layout": "IPY_MODEL_8286c20b466f4588863e54055079e3f7"
          }
        },
        "269065285ded4861a05304e0f48a6196": {
          "model_module": "@jupyter-widgets/controls",
          "model_name": "HTMLModel",
          "model_module_version": "1.5.0",
          "state": {
            "_dom_classes": [],
            "_model_module": "@jupyter-widgets/controls",
            "_model_module_version": "1.5.0",
            "_model_name": "HTMLModel",
            "_view_count": null,
            "_view_module": "@jupyter-widgets/controls",
            "_view_module_version": "1.5.0",
            "_view_name": "HTMLView",
            "description": "",
            "description_tooltip": null,
            "layout": "IPY_MODEL_8047697a7ee04a2ba89688ff080669e2",
            "placeholder": "​",
            "style": "IPY_MODEL_e65748891b864900b190f3ed7f757b70",
            "value": "100%"
          }
        },
        "5ff57c0e4b3f40f286c2ff88a7e4c604": {
          "model_module": "@jupyter-widgets/controls",
          "model_name": "FloatProgressModel",
          "model_module_version": "1.5.0",
          "state": {
            "_dom_classes": [],
            "_model_module": "@jupyter-widgets/controls",
            "_model_module_version": "1.5.0",
            "_model_name": "FloatProgressModel",
            "_view_count": null,
            "_view_module": "@jupyter-widgets/controls",
            "_view_module_version": "1.5.0",
            "_view_name": "ProgressView",
            "bar_style": "success",
            "description": "",
            "description_tooltip": null,
            "layout": "IPY_MODEL_69c708e85ed14fa286fdf7f1268934ff",
            "max": 10,
            "min": 0,
            "orientation": "horizontal",
            "style": "IPY_MODEL_cb2f1bdbb9a54a3196538fb35c032b99",
            "value": 10
          }
        },
        "e72f339dae744e0aaa06a83ce3192cf6": {
          "model_module": "@jupyter-widgets/controls",
          "model_name": "HTMLModel",
          "model_module_version": "1.5.0",
          "state": {
            "_dom_classes": [],
            "_model_module": "@jupyter-widgets/controls",
            "_model_module_version": "1.5.0",
            "_model_name": "HTMLModel",
            "_view_count": null,
            "_view_module": "@jupyter-widgets/controls",
            "_view_module_version": "1.5.0",
            "_view_name": "HTMLView",
            "description": "",
            "description_tooltip": null,
            "layout": "IPY_MODEL_0eb2d33a145b487ba933f380d86d7a46",
            "placeholder": "​",
            "style": "IPY_MODEL_ba1aaf1fc24340b2a17b70158e945167",
            "value": " 10/10 [03:21&lt;00:00, 20.27s/it]"
          }
        },
        "8286c20b466f4588863e54055079e3f7": {
          "model_module": "@jupyter-widgets/base",
          "model_name": "LayoutModel",
          "model_module_version": "1.2.0",
          "state": {
            "_model_module": "@jupyter-widgets/base",
            "_model_module_version": "1.2.0",
            "_model_name": "LayoutModel",
            "_view_count": null,
            "_view_module": "@jupyter-widgets/base",
            "_view_module_version": "1.2.0",
            "_view_name": "LayoutView",
            "align_content": null,
            "align_items": null,
            "align_self": null,
            "border": null,
            "bottom": null,
            "display": null,
            "flex": null,
            "flex_flow": null,
            "grid_area": null,
            "grid_auto_columns": null,
            "grid_auto_flow": null,
            "grid_auto_rows": null,
            "grid_column": null,
            "grid_gap": null,
            "grid_row": null,
            "grid_template_areas": null,
            "grid_template_columns": null,
            "grid_template_rows": null,
            "height": null,
            "justify_content": null,
            "justify_items": null,
            "left": null,
            "margin": null,
            "max_height": null,
            "max_width": null,
            "min_height": null,
            "min_width": null,
            "object_fit": null,
            "object_position": null,
            "order": null,
            "overflow": null,
            "overflow_x": null,
            "overflow_y": null,
            "padding": null,
            "right": null,
            "top": null,
            "visibility": null,
            "width": null
          }
        },
        "8047697a7ee04a2ba89688ff080669e2": {
          "model_module": "@jupyter-widgets/base",
          "model_name": "LayoutModel",
          "model_module_version": "1.2.0",
          "state": {
            "_model_module": "@jupyter-widgets/base",
            "_model_module_version": "1.2.0",
            "_model_name": "LayoutModel",
            "_view_count": null,
            "_view_module": "@jupyter-widgets/base",
            "_view_module_version": "1.2.0",
            "_view_name": "LayoutView",
            "align_content": null,
            "align_items": null,
            "align_self": null,
            "border": null,
            "bottom": null,
            "display": null,
            "flex": null,
            "flex_flow": null,
            "grid_area": null,
            "grid_auto_columns": null,
            "grid_auto_flow": null,
            "grid_auto_rows": null,
            "grid_column": null,
            "grid_gap": null,
            "grid_row": null,
            "grid_template_areas": null,
            "grid_template_columns": null,
            "grid_template_rows": null,
            "height": null,
            "justify_content": null,
            "justify_items": null,
            "left": null,
            "margin": null,
            "max_height": null,
            "max_width": null,
            "min_height": null,
            "min_width": null,
            "object_fit": null,
            "object_position": null,
            "order": null,
            "overflow": null,
            "overflow_x": null,
            "overflow_y": null,
            "padding": null,
            "right": null,
            "top": null,
            "visibility": null,
            "width": null
          }
        },
        "e65748891b864900b190f3ed7f757b70": {
          "model_module": "@jupyter-widgets/controls",
          "model_name": "DescriptionStyleModel",
          "model_module_version": "1.5.0",
          "state": {
            "_model_module": "@jupyter-widgets/controls",
            "_model_module_version": "1.5.0",
            "_model_name": "DescriptionStyleModel",
            "_view_count": null,
            "_view_module": "@jupyter-widgets/base",
            "_view_module_version": "1.2.0",
            "_view_name": "StyleView",
            "description_width": ""
          }
        },
        "69c708e85ed14fa286fdf7f1268934ff": {
          "model_module": "@jupyter-widgets/base",
          "model_name": "LayoutModel",
          "model_module_version": "1.2.0",
          "state": {
            "_model_module": "@jupyter-widgets/base",
            "_model_module_version": "1.2.0",
            "_model_name": "LayoutModel",
            "_view_count": null,
            "_view_module": "@jupyter-widgets/base",
            "_view_module_version": "1.2.0",
            "_view_name": "LayoutView",
            "align_content": null,
            "align_items": null,
            "align_self": null,
            "border": null,
            "bottom": null,
            "display": null,
            "flex": null,
            "flex_flow": null,
            "grid_area": null,
            "grid_auto_columns": null,
            "grid_auto_flow": null,
            "grid_auto_rows": null,
            "grid_column": null,
            "grid_gap": null,
            "grid_row": null,
            "grid_template_areas": null,
            "grid_template_columns": null,
            "grid_template_rows": null,
            "height": null,
            "justify_content": null,
            "justify_items": null,
            "left": null,
            "margin": null,
            "max_height": null,
            "max_width": null,
            "min_height": null,
            "min_width": null,
            "object_fit": null,
            "object_position": null,
            "order": null,
            "overflow": null,
            "overflow_x": null,
            "overflow_y": null,
            "padding": null,
            "right": null,
            "top": null,
            "visibility": null,
            "width": null
          }
        },
        "cb2f1bdbb9a54a3196538fb35c032b99": {
          "model_module": "@jupyter-widgets/controls",
          "model_name": "ProgressStyleModel",
          "model_module_version": "1.5.0",
          "state": {
            "_model_module": "@jupyter-widgets/controls",
            "_model_module_version": "1.5.0",
            "_model_name": "ProgressStyleModel",
            "_view_count": null,
            "_view_module": "@jupyter-widgets/base",
            "_view_module_version": "1.2.0",
            "_view_name": "StyleView",
            "bar_color": null,
            "description_width": ""
          }
        },
        "0eb2d33a145b487ba933f380d86d7a46": {
          "model_module": "@jupyter-widgets/base",
          "model_name": "LayoutModel",
          "model_module_version": "1.2.0",
          "state": {
            "_model_module": "@jupyter-widgets/base",
            "_model_module_version": "1.2.0",
            "_model_name": "LayoutModel",
            "_view_count": null,
            "_view_module": "@jupyter-widgets/base",
            "_view_module_version": "1.2.0",
            "_view_name": "LayoutView",
            "align_content": null,
            "align_items": null,
            "align_self": null,
            "border": null,
            "bottom": null,
            "display": null,
            "flex": null,
            "flex_flow": null,
            "grid_area": null,
            "grid_auto_columns": null,
            "grid_auto_flow": null,
            "grid_auto_rows": null,
            "grid_column": null,
            "grid_gap": null,
            "grid_row": null,
            "grid_template_areas": null,
            "grid_template_columns": null,
            "grid_template_rows": null,
            "height": null,
            "justify_content": null,
            "justify_items": null,
            "left": null,
            "margin": null,
            "max_height": null,
            "max_width": null,
            "min_height": null,
            "min_width": null,
            "object_fit": null,
            "object_position": null,
            "order": null,
            "overflow": null,
            "overflow_x": null,
            "overflow_y": null,
            "padding": null,
            "right": null,
            "top": null,
            "visibility": null,
            "width": null
          }
        },
        "ba1aaf1fc24340b2a17b70158e945167": {
          "model_module": "@jupyter-widgets/controls",
          "model_name": "DescriptionStyleModel",
          "model_module_version": "1.5.0",
          "state": {
            "_model_module": "@jupyter-widgets/controls",
            "_model_module_version": "1.5.0",
            "_model_name": "DescriptionStyleModel",
            "_view_count": null,
            "_view_module": "@jupyter-widgets/base",
            "_view_module_version": "1.2.0",
            "_view_name": "StyleView",
            "description_width": ""
          }
        },
        "a0b538fb42914405a3d412498b4971a7": {
          "model_module": "@jupyter-widgets/controls",
          "model_name": "HBoxModel",
          "model_module_version": "1.5.0",
          "state": {
            "_dom_classes": [],
            "_model_module": "@jupyter-widgets/controls",
            "_model_module_version": "1.5.0",
            "_model_name": "HBoxModel",
            "_view_count": null,
            "_view_module": "@jupyter-widgets/controls",
            "_view_module_version": "1.5.0",
            "_view_name": "HBoxView",
            "box_style": "",
            "children": [
              "IPY_MODEL_13c71e3085fd4b5dbf5020071c9c7752",
              "IPY_MODEL_c0f7ad88e79b45858b259976618ee9b6",
              "IPY_MODEL_71a13855ceb14ac9b877a3b43251cf49"
            ],
            "layout": "IPY_MODEL_8f2eac4d246c4dcfa48a1e546cddda78"
          }
        },
        "13c71e3085fd4b5dbf5020071c9c7752": {
          "model_module": "@jupyter-widgets/controls",
          "model_name": "HTMLModel",
          "model_module_version": "1.5.0",
          "state": {
            "_dom_classes": [],
            "_model_module": "@jupyter-widgets/controls",
            "_model_module_version": "1.5.0",
            "_model_name": "HTMLModel",
            "_view_count": null,
            "_view_module": "@jupyter-widgets/controls",
            "_view_module_version": "1.5.0",
            "_view_name": "HTMLView",
            "description": "",
            "description_tooltip": null,
            "layout": "IPY_MODEL_e69bf74b6c844c01b793d3443f65b09c",
            "placeholder": "​",
            "style": "IPY_MODEL_6bde1a11775b47baacc34f6689c91d13",
            "value": "100%"
          }
        },
        "c0f7ad88e79b45858b259976618ee9b6": {
          "model_module": "@jupyter-widgets/controls",
          "model_name": "FloatProgressModel",
          "model_module_version": "1.5.0",
          "state": {
            "_dom_classes": [],
            "_model_module": "@jupyter-widgets/controls",
            "_model_module_version": "1.5.0",
            "_model_name": "FloatProgressModel",
            "_view_count": null,
            "_view_module": "@jupyter-widgets/controls",
            "_view_module_version": "1.5.0",
            "_view_name": "ProgressView",
            "bar_style": "success",
            "description": "",
            "description_tooltip": null,
            "layout": "IPY_MODEL_93fe4c44af394d7bb4f656cbd0c5ea45",
            "max": 10,
            "min": 0,
            "orientation": "horizontal",
            "style": "IPY_MODEL_a9c7d8d9a32c49deb2c32d6ed61ac900",
            "value": 10
          }
        },
        "71a13855ceb14ac9b877a3b43251cf49": {
          "model_module": "@jupyter-widgets/controls",
          "model_name": "HTMLModel",
          "model_module_version": "1.5.0",
          "state": {
            "_dom_classes": [],
            "_model_module": "@jupyter-widgets/controls",
            "_model_module_version": "1.5.0",
            "_model_name": "HTMLModel",
            "_view_count": null,
            "_view_module": "@jupyter-widgets/controls",
            "_view_module_version": "1.5.0",
            "_view_name": "HTMLView",
            "description": "",
            "description_tooltip": null,
            "layout": "IPY_MODEL_bb286a54dfb8498f99937f300e9dda63",
            "placeholder": "​",
            "style": "IPY_MODEL_cd5ee183cb7d4f5f885c192b05437029",
            "value": " 10/10 [00:11&lt;00:00,  1.13s/it]"
          }
        },
        "8f2eac4d246c4dcfa48a1e546cddda78": {
          "model_module": "@jupyter-widgets/base",
          "model_name": "LayoutModel",
          "model_module_version": "1.2.0",
          "state": {
            "_model_module": "@jupyter-widgets/base",
            "_model_module_version": "1.2.0",
            "_model_name": "LayoutModel",
            "_view_count": null,
            "_view_module": "@jupyter-widgets/base",
            "_view_module_version": "1.2.0",
            "_view_name": "LayoutView",
            "align_content": null,
            "align_items": null,
            "align_self": null,
            "border": null,
            "bottom": null,
            "display": null,
            "flex": null,
            "flex_flow": null,
            "grid_area": null,
            "grid_auto_columns": null,
            "grid_auto_flow": null,
            "grid_auto_rows": null,
            "grid_column": null,
            "grid_gap": null,
            "grid_row": null,
            "grid_template_areas": null,
            "grid_template_columns": null,
            "grid_template_rows": null,
            "height": null,
            "justify_content": null,
            "justify_items": null,
            "left": null,
            "margin": null,
            "max_height": null,
            "max_width": null,
            "min_height": null,
            "min_width": null,
            "object_fit": null,
            "object_position": null,
            "order": null,
            "overflow": null,
            "overflow_x": null,
            "overflow_y": null,
            "padding": null,
            "right": null,
            "top": null,
            "visibility": null,
            "width": null
          }
        },
        "e69bf74b6c844c01b793d3443f65b09c": {
          "model_module": "@jupyter-widgets/base",
          "model_name": "LayoutModel",
          "model_module_version": "1.2.0",
          "state": {
            "_model_module": "@jupyter-widgets/base",
            "_model_module_version": "1.2.0",
            "_model_name": "LayoutModel",
            "_view_count": null,
            "_view_module": "@jupyter-widgets/base",
            "_view_module_version": "1.2.0",
            "_view_name": "LayoutView",
            "align_content": null,
            "align_items": null,
            "align_self": null,
            "border": null,
            "bottom": null,
            "display": null,
            "flex": null,
            "flex_flow": null,
            "grid_area": null,
            "grid_auto_columns": null,
            "grid_auto_flow": null,
            "grid_auto_rows": null,
            "grid_column": null,
            "grid_gap": null,
            "grid_row": null,
            "grid_template_areas": null,
            "grid_template_columns": null,
            "grid_template_rows": null,
            "height": null,
            "justify_content": null,
            "justify_items": null,
            "left": null,
            "margin": null,
            "max_height": null,
            "max_width": null,
            "min_height": null,
            "min_width": null,
            "object_fit": null,
            "object_position": null,
            "order": null,
            "overflow": null,
            "overflow_x": null,
            "overflow_y": null,
            "padding": null,
            "right": null,
            "top": null,
            "visibility": null,
            "width": null
          }
        },
        "6bde1a11775b47baacc34f6689c91d13": {
          "model_module": "@jupyter-widgets/controls",
          "model_name": "DescriptionStyleModel",
          "model_module_version": "1.5.0",
          "state": {
            "_model_module": "@jupyter-widgets/controls",
            "_model_module_version": "1.5.0",
            "_model_name": "DescriptionStyleModel",
            "_view_count": null,
            "_view_module": "@jupyter-widgets/base",
            "_view_module_version": "1.2.0",
            "_view_name": "StyleView",
            "description_width": ""
          }
        },
        "93fe4c44af394d7bb4f656cbd0c5ea45": {
          "model_module": "@jupyter-widgets/base",
          "model_name": "LayoutModel",
          "model_module_version": "1.2.0",
          "state": {
            "_model_module": "@jupyter-widgets/base",
            "_model_module_version": "1.2.0",
            "_model_name": "LayoutModel",
            "_view_count": null,
            "_view_module": "@jupyter-widgets/base",
            "_view_module_version": "1.2.0",
            "_view_name": "LayoutView",
            "align_content": null,
            "align_items": null,
            "align_self": null,
            "border": null,
            "bottom": null,
            "display": null,
            "flex": null,
            "flex_flow": null,
            "grid_area": null,
            "grid_auto_columns": null,
            "grid_auto_flow": null,
            "grid_auto_rows": null,
            "grid_column": null,
            "grid_gap": null,
            "grid_row": null,
            "grid_template_areas": null,
            "grid_template_columns": null,
            "grid_template_rows": null,
            "height": null,
            "justify_content": null,
            "justify_items": null,
            "left": null,
            "margin": null,
            "max_height": null,
            "max_width": null,
            "min_height": null,
            "min_width": null,
            "object_fit": null,
            "object_position": null,
            "order": null,
            "overflow": null,
            "overflow_x": null,
            "overflow_y": null,
            "padding": null,
            "right": null,
            "top": null,
            "visibility": null,
            "width": null
          }
        },
        "a9c7d8d9a32c49deb2c32d6ed61ac900": {
          "model_module": "@jupyter-widgets/controls",
          "model_name": "ProgressStyleModel",
          "model_module_version": "1.5.0",
          "state": {
            "_model_module": "@jupyter-widgets/controls",
            "_model_module_version": "1.5.0",
            "_model_name": "ProgressStyleModel",
            "_view_count": null,
            "_view_module": "@jupyter-widgets/base",
            "_view_module_version": "1.2.0",
            "_view_name": "StyleView",
            "bar_color": null,
            "description_width": ""
          }
        },
        "bb286a54dfb8498f99937f300e9dda63": {
          "model_module": "@jupyter-widgets/base",
          "model_name": "LayoutModel",
          "model_module_version": "1.2.0",
          "state": {
            "_model_module": "@jupyter-widgets/base",
            "_model_module_version": "1.2.0",
            "_model_name": "LayoutModel",
            "_view_count": null,
            "_view_module": "@jupyter-widgets/base",
            "_view_module_version": "1.2.0",
            "_view_name": "LayoutView",
            "align_content": null,
            "align_items": null,
            "align_self": null,
            "border": null,
            "bottom": null,
            "display": null,
            "flex": null,
            "flex_flow": null,
            "grid_area": null,
            "grid_auto_columns": null,
            "grid_auto_flow": null,
            "grid_auto_rows": null,
            "grid_column": null,
            "grid_gap": null,
            "grid_row": null,
            "grid_template_areas": null,
            "grid_template_columns": null,
            "grid_template_rows": null,
            "height": null,
            "justify_content": null,
            "justify_items": null,
            "left": null,
            "margin": null,
            "max_height": null,
            "max_width": null,
            "min_height": null,
            "min_width": null,
            "object_fit": null,
            "object_position": null,
            "order": null,
            "overflow": null,
            "overflow_x": null,
            "overflow_y": null,
            "padding": null,
            "right": null,
            "top": null,
            "visibility": null,
            "width": null
          }
        },
        "cd5ee183cb7d4f5f885c192b05437029": {
          "model_module": "@jupyter-widgets/controls",
          "model_name": "DescriptionStyleModel",
          "model_module_version": "1.5.0",
          "state": {
            "_model_module": "@jupyter-widgets/controls",
            "_model_module_version": "1.5.0",
            "_model_name": "DescriptionStyleModel",
            "_view_count": null,
            "_view_module": "@jupyter-widgets/base",
            "_view_module_version": "1.2.0",
            "_view_name": "StyleView",
            "description_width": ""
          }
        }
      }
    }
  },
  "cells": [
    {
      "cell_type": "markdown",
      "metadata": {
        "id": "view-in-github",
        "colab_type": "text"
      },
      "source": [
        "<a href=\"https://colab.research.google.com/github/coletted1/Model-Inversion-Project/blob/main/ModelInversionProject.ipynb\" target=\"_parent\"><img src=\"https://colab.research.google.com/assets/colab-badge.svg\" alt=\"Open In Colab\"/></a>"
      ]
    },
    {
      "cell_type": "markdown",
      "source": [
        "# Description of the Victim Model\n",
        "\n",
        "## Purpose of the Model\n",
        "The target model in our tutorial is designed to classify handwritten digits using the MNIST dataset. This dataset comprises 28x28 grayscale images of handwritten digits (0 through 9). The model is a basic convolutional neural network (CNN) tailored for this relatively straightforward classification task.\n",
        "\n",
        "## Description of Training Data\n",
        "The MNIST dataset serves as the training data, specifically using a subset of 20,000 images out of the total set for efficiency. MNIST images are standardized in size and centered, containing digits in a variety of handwritten styles.\n",
        "\n",
        "## Description of Model Architecture\n",
        "The model architecture is split into two parts:\n",
        "\n",
        "1. **First Stage:** This part is envisioned to run on a mobile device. It includes two convolutional layers, each followed by a ReLU activation and max pooling. This stage processes the image and extracts feature maps.\n",
        "   \n",
        "2. **Second Stage:** This part simulates processing on a central server. It receives the output from the first stage and continues with two linear layers, incorporating ReLU activations and a final softmax layer for classification across the ten digit classes.\n",
        "\n",
        "## Hyperparameters\n",
        "The hyperparameters for training this target model are as follows:\n",
        "- Batch size: 256\n",
        "- Epochs: 10\n",
        "- Learning rate: 0.0001\n",
        "- Total number of training data points used: 20,000\n",
        "\n",
        "## Model Metrics\n",
        "- **Accuracy:** Measures the overall correctness of the model across all classes.\n",
        "- **Precision:** Indicates the correctness achieved in a class balanced over each class.\n",
        "- **F1 Score:** Harmonic mean of precision and recall, providing a balance between them.\n"
      ],
      "metadata": {
        "id": "bqphAViKrRPX"
      }
    },
    {
      "cell_type": "code",
      "source": [
        "from collections import namedtuple\n",
        "\n",
        "import matplotlib.pyplot as plt\n",
        "import torch\n",
        "import torchvision.transforms as transforms\n",
        "import numpy as np\n",
        "from torchvision.datasets import EMNIST, MNIST\n",
        "from tqdm.notebook import tqdm, trange\n",
        "\n",
        "%matplotlib inline"
      ],
      "metadata": {
        "id": "3qUAYPdWQb42"
      },
      "execution_count": null,
      "outputs": []
    },
    {
      "cell_type": "code",
      "source": [
        "%matplotlib inline"
      ],
      "metadata": {
        "id": "eqo8DmQaQdrB"
      },
      "execution_count": null,
      "outputs": []
    },
    {
      "cell_type": "code",
      "source": [
        "hyperparams = namedtuple('hyperparams', 'batch_size,epochs,learning_rate,n_data')\n",
        "\n",
        "# Target model hyperparameters\n",
        "target_hyperparams = hyperparams(\n",
        "    batch_size=256,\n",
        "    epochs=10,\n",
        "    learning_rate=1e-4,\n",
        "    n_data=20_000,  # some of training data for MNIST classifier\n",
        ")\n",
        "\n",
        "# Attack model hyperparameters\n",
        "attacker_hyperparams = hyperparams(\n",
        "    batch_size=32,\n",
        "    epochs=10,\n",
        "    learning_rate=1e-4,\n",
        "    n_data=500,\n",
        ")"
      ],
      "metadata": {
        "id": "WyZ7pJ79RWQ5"
      },
      "execution_count": null,
      "outputs": []
    },
    {
      "cell_type": "code",
      "source": [
        "mnist_transform = transforms.Compose(\n",
        "    [transforms.ToTensor(), transforms.Normalize((0.1307,), (0.3081,)),]\n",
        ")\n",
        "\n",
        "# Target model training data\n",
        "train_data = MNIST(\"mnist\", train=True, download=True, transform=mnist_transform)\n",
        "\n",
        "# some of training data for MNIST\n",
        "train_data.data = train_data.data[:target_hyperparams.n_data]\n",
        "train_data.targets = train_data.targets[:target_hyperparams.n_data]\n",
        "\n",
        "# Target model test data\n",
        "test_data = MNIST(\"mnist\", train=False, download=True, transform=mnist_transform)\n",
        "\n",
        "# Create data loaders\n",
        "train_loader = torch.utils.data.DataLoader(train_data, batch_size=target_hyperparams.batch_size)\n",
        "test_loader = torch.utils.data.DataLoader(test_data, batch_size=1_000)"
      ],
      "metadata": {
        "id": "7Kc93g4ZRtRq"
      },
      "execution_count": null,
      "outputs": []
    },
    {
      "cell_type": "code",
      "source": [
        "class Classifier(torch.nn.Module):\n",
        "    def __init__(self, first_network, second_network) -> None:\n",
        "        super().__init__()\n",
        "\n",
        "        # First stage\n",
        "        self.stage1 = first_network\n",
        "\n",
        "        # Second stage\n",
        "        self.stage2 = second_network\n",
        "\n",
        "    def mobile_stage(self, x):\n",
        "        return self.stage1(x)\n",
        "\n",
        "    def forward(self, x):\n",
        "        out = self.mobile_stage(x)\n",
        "        out = out.view(out.size(0), -1)\n",
        "\n",
        "        return self.stage2(out)"
      ],
      "metadata": {
        "id": "PnG-EoqURwVa"
      },
      "execution_count": null,
      "outputs": []
    },
    {
      "cell_type": "code",
      "source": [
        "# The first part of the network\n",
        "first_network = torch.nn.Sequential(\n",
        "                torch.nn.Conv2d(1, 32, kernel_size=5, padding=0, stride=1),  # first Conv layer\n",
        "                torch.nn.ReLU(),\n",
        "                torch.nn.MaxPool2d(kernel_size=2),\n",
        "                torch.nn.Conv2d(32, 32, kernel_size=5, padding=0, stride=1),  # second Conv layer\n",
        "                torch.nn.ReLU(),\n",
        "                torch.nn.MaxPool2d(kernel_size=2),\n",
        "        )\n",
        "\n",
        "\n",
        "# The second and final part of the network\n",
        "second_network = torch.nn.Sequential(\n",
        "                torch.nn.Linear(512, 256),\n",
        "                torch.nn.ReLU(),\n",
        "                torch.nn.Linear(256, 10),  # 10-class output\n",
        "                torch.nn.Softmax(dim=-1),\n",
        "        )\n",
        "\n",
        "target_model = Classifier(first_network, second_network)\n",
        "target_model"
      ],
      "metadata": {
        "colab": {
          "base_uri": "https://localhost:8080/"
        },
        "id": "YvHm1Qo7Rz56",
        "outputId": "d829f052-a9ec-4039-e2e0-8096b7c572e9"
      },
      "execution_count": null,
      "outputs": [
        {
          "output_type": "execute_result",
          "data": {
            "text/plain": [
              "Classifier(\n",
              "  (stage1): Sequential(\n",
              "    (0): Conv2d(1, 32, kernel_size=(5, 5), stride=(1, 1))\n",
              "    (1): ReLU()\n",
              "    (2): MaxPool2d(kernel_size=2, stride=2, padding=0, dilation=1, ceil_mode=False)\n",
              "    (3): Conv2d(32, 32, kernel_size=(5, 5), stride=(1, 1))\n",
              "    (4): ReLU()\n",
              "    (5): MaxPool2d(kernel_size=2, stride=2, padding=0, dilation=1, ceil_mode=False)\n",
              "  )\n",
              "  (stage2): Sequential(\n",
              "    (0): Linear(in_features=512, out_features=256, bias=True)\n",
              "    (1): ReLU()\n",
              "    (2): Linear(in_features=256, out_features=10, bias=True)\n",
              "    (3): Softmax(dim=-1)\n",
              "  )\n",
              ")"
            ]
          },
          "metadata": {},
          "execution_count": 22
        }
      ]
    },
    {
      "cell_type": "code",
      "source": [
        "from sklearn.metrics import precision_score, f1_score\n",
        "from sklearn.metrics import accuracy_score\n",
        "\n",
        "# Lists to store true and predicted labels for computing metrics later\n",
        "all_targets = []\n",
        "all_predictions = []\n",
        "\n",
        "optim = torch.optim.Adam(target_model.parameters(), lr=target_hyperparams.learning_rate)\n",
        "loss_criterion = torch.nn.CrossEntropyLoss()\n",
        "\n",
        "for epoch in trange(target_hyperparams.epochs):\n",
        "    train_correct = 0\n",
        "    train_loss = 0.\n",
        "\n",
        "    # Training loop\n",
        "    for data, targets in train_loader:\n",
        "        optim.zero_grad()\n",
        "\n",
        "        output = target_model(data)\n",
        "\n",
        "        # Update network\n",
        "        loss = loss_criterion(output, targets)\n",
        "        loss.backward()\n",
        "        optim.step()\n",
        "\n",
        "        # Track training statistics\n",
        "        _, predicted = output.max(1)\n",
        "        train_correct += predicted.eq(targets).sum().item()\n",
        "        train_loss += loss.item()\n",
        "\n",
        "train_loss /= len(train_data)\n",
        "\n",
        "# Check test accuracy\n",
        "test_correct = 0\n",
        "test_loss = 0.\n",
        "\n",
        "for data, targets in test_loader:\n",
        "    with torch.no_grad():\n",
        "        output = target_model(data)\n",
        "\n",
        "    loss = loss_criterion(output, targets)\n",
        "\n",
        "    _, predicted = output.max(1)\n",
        "\n",
        "    # Accumulate the true and predicted labels\n",
        "    all_targets.extend(targets.cpu().numpy())\n",
        "    all_predictions.extend(predicted.cpu().numpy())\n",
        "\n",
        "# Convert accumulated labels to arrays for sklearn functions\n",
        "all_targets_array = np.array(all_targets)\n",
        "all_predictions_array = np.array(all_predictions)\n",
        "\n",
        "# Calculate accuracy, precision and F1 score using sklearn\n",
        "accuracy = accuracy_score(all_targets_array, all_predictions_array)\n",
        "precision = precision_score(all_targets_array, all_predictions_array, average='weighted')\n",
        "f1 = f1_score(all_targets_array, all_predictions_array, average='weighted')\n",
        "\n",
        "print(f\"Test accuracy: {accuracy:.3f}\")\n",
        "print(f\"Test precision: {precision:.3f}\")\n",
        "print(f\"Test F1 score: {f1:.3f}\")"
      ],
      "metadata": {
        "colab": {
          "base_uri": "https://localhost:8080/",
          "height": 101,
          "referenced_widgets": [
            "3b4cfff7a1734729bc070a0a77c9c741",
            "269065285ded4861a05304e0f48a6196",
            "5ff57c0e4b3f40f286c2ff88a7e4c604",
            "e72f339dae744e0aaa06a83ce3192cf6",
            "8286c20b466f4588863e54055079e3f7",
            "8047697a7ee04a2ba89688ff080669e2",
            "e65748891b864900b190f3ed7f757b70",
            "69c708e85ed14fa286fdf7f1268934ff",
            "cb2f1bdbb9a54a3196538fb35c032b99",
            "0eb2d33a145b487ba933f380d86d7a46",
            "ba1aaf1fc24340b2a17b70158e945167"
          ]
        },
        "id": "IYLWm_6ER2JK",
        "outputId": "1f744044-af63-42f3-ef6b-27680c9b912d"
      },
      "execution_count": null,
      "outputs": [
        {
          "output_type": "display_data",
          "data": {
            "text/plain": [
              "  0%|          | 0/10 [00:00<?, ?it/s]"
            ],
            "application/vnd.jupyter.widget-view+json": {
              "version_major": 2,
              "version_minor": 0,
              "model_id": "3b4cfff7a1734729bc070a0a77c9c741"
            }
          },
          "metadata": {}
        },
        {
          "output_type": "stream",
          "name": "stdout",
          "text": [
            "Test accuracy: 0.959\n",
            "Test precision: 0.959\n",
            "Test F1 score: 0.959\n"
          ]
        }
      ]
    },
    {
      "cell_type": "markdown",
      "source": [
        "# Model Inversion Attack Technique\n",
        "\n",
        "## Purpose\n",
        "The attack model aims to recreate the original MNIST images from the outputs of the first stage of the target model. This model effectively functions as a decoder in an autoencoder setup, where the encoder part is the first stage of the target model.\n",
        "\n",
        "## Architecture and Hyperparameters\n",
        "The attack model employs deconvolutional layers to reconstruct the input images from the reduced feature maps generated by the first stage of the target model. This reverse process is configured through:\n",
        "- Convolutional Transpose Layers (Deconvolutional Layers): These layers upsample the feature maps back to the original image size.\n",
        "\n",
        "The hyperparameters for the attack model are:\n",
        "- Batch size: 32\n",
        "- Epochs: 10\n",
        "- Learning rate: 0.0001\n",
        "- Number of data points used for training: 500\n",
        "\n",
        "The attacker training uses data similar but not identical to the original training data, aiming to train the model to effectively invert the target model's output back to recognizable images.\n",
        "\n",
        "## Training Process\n",
        "- The attack model is trained to minimize the mean squared error between its output and the original images, essentially learning to reconstruct the input data from the feature maps alone.\n",
        "\n",
        "## Discussion of Pros and Cons\n",
        "Pros:\n",
        "\n",
        "Effectiveness in Black Box Settings: This attack can be effective even without direct access to the model architecture or its parameters since it only requires output from the model’s accessible point (e.g., outputs from a mobile device).\n",
        "It serves as a powerful demonstration of the potential privacy risks associated with deploying machine learning models, especially those that handle sensitive data.\n",
        "The attack does not require the exact training data but can work with similar datasets, which may sometimes be easier to obtain.\n",
        "\n",
        "\n",
        "Cons:\n",
        "\n",
        "The success of the attack heavily relies on the availability of data similar to the training data of the target model, which may not always be feasible or ethical to acquire.\n",
        "Training a successful attack model requires a good understanding of both machine learning model architecture and the data domain to effectively reverse-engineer the model outputs.\n",
        "\n",
        "## Discussion of Resources Required\n",
        "Computational Resources: Successful execution of this attack technique requires significant computational resources. Training both the target model and the attack model, can be resource-intensive and may require GPUs for efficient processing.\n",
        "\n",
        "Data Resources: Access to data similar to the model’s training data is crucial. For instance, if attacking a model trained on a specific type of imagery (like medical images), similar datasets must be obtained, which could be challenging or restricted due to privacy concerns.\n",
        "\n",
        "Time: Depending on the complexity of the target model and the quality of the available data for the attack model, the training and optimization process can be time-consuming."
      ],
      "metadata": {
        "id": "Z8bQyxjLsfgM"
      }
    },
    {
      "cell_type": "code",
      "source": [
        "class AttackModel(torch.nn.Module):\n",
        "    def __init__(self):\n",
        "        super().__init__()\n",
        "\n",
        "        self.layers = torch.nn.Sequential(\n",
        "                torch.nn.ConvTranspose2d(\n",
        "                    in_channels=32,\n",
        "                    out_channels=32,\n",
        "                    kernel_size=7,\n",
        "                    padding=1,\n",
        "                    stride=2,\n",
        "                    output_padding=1,\n",
        "                ),\n",
        "                torch.nn.ReLU(),\n",
        "                torch.nn.ConvTranspose2d(\n",
        "                    in_channels=32,\n",
        "                    out_channels=32,\n",
        "                    kernel_size=5,\n",
        "                    padding=1,\n",
        "                    stride=2,\n",
        "                    output_padding=1,\n",
        "                ),\n",
        "                torch.nn.ReLU(),\n",
        "                torch.nn.ConvTranspose2d(\n",
        "                    in_channels=32, out_channels=1, kernel_size=5, padding=1, stride=1,\n",
        "                ),\n",
        "        )\n",
        "\n",
        "    def forward(self, x):\n",
        "        return self.layers(x)"
      ],
      "metadata": {
        "id": "snA9z8w9VD_0"
      },
      "execution_count": null,
      "outputs": []
    },
    {
      "cell_type": "code",
      "source": [
        "# Get attacker\n",
        "attacker = AttackModel()\n",
        "\n",
        "mnist_transform = transforms.Compose([\n",
        "    transforms.ToTensor(),\n",
        "    transforms.Normalize((0.1307,), (0.3081,)),\n",
        "])\n",
        "\n",
        "# Get MNIST dataset\n",
        "attacker_dataset = MNIST(root='mnist', train=False, transform=mnist_transform, download=True)\n",
        "\n",
        "# Use the last n_data images in the test set to train the attacker\n",
        "attacker_dataset.data = attacker_dataset.data[:attacker_hyperparams.n_data]\n",
        "attacker_dataset.targets = attacker_dataset.targets[:attacker_hyperparams.n_data]\n",
        "\n",
        "attacker_train_loader = torch.utils.data.DataLoader(attacker_dataset, batch_size=attacker_hyperparams.batch_size)\n",
        "\n",
        "# Train attacker\n",
        "attack_optim = torch.optim.Adam(attacker.parameters(), lr=attacker_hyperparams.learning_rate)\n",
        "\n",
        "for epoch in trange(attacker_hyperparams.epochs):\n",
        "    for data, targets in attacker_train_loader:\n",
        "        data.float()\n",
        "        targets.float()\n",
        "\n",
        "        attack_optim.zero_grad()\n",
        "\n",
        "        # This is the input of our attack model\n",
        "        with torch.no_grad():\n",
        "            attack_input = target_model.mobile_stage(data)\n",
        "\n",
        "        output = attacker(attack_input)\n",
        "\n",
        "        loss = ((output - data)**2).mean()  # want our reconstructed image to look as much like the original image as possible\n",
        "        loss.backward()\n",
        "        attack_optim.step()"
      ],
      "metadata": {
        "colab": {
          "base_uri": "https://localhost:8080/",
          "height": 49,
          "referenced_widgets": [
            "a0b538fb42914405a3d412498b4971a7",
            "13c71e3085fd4b5dbf5020071c9c7752",
            "c0f7ad88e79b45858b259976618ee9b6",
            "71a13855ceb14ac9b877a3b43251cf49",
            "8f2eac4d246c4dcfa48a1e546cddda78",
            "e69bf74b6c844c01b793d3443f65b09c",
            "6bde1a11775b47baacc34f6689c91d13",
            "93fe4c44af394d7bb4f656cbd0c5ea45",
            "a9c7d8d9a32c49deb2c32d6ed61ac900",
            "bb286a54dfb8498f99937f300e9dda63",
            "cd5ee183cb7d4f5f885c192b05437029"
          ]
        },
        "id": "LnDT4YrzVFZ8",
        "outputId": "c717dae6-bfe0-42b3-868a-6f876aa1c278"
      },
      "execution_count": null,
      "outputs": [
        {
          "output_type": "display_data",
          "data": {
            "text/plain": [
              "  0%|          | 0/10 [00:00<?, ?it/s]"
            ],
            "application/vnd.jupyter.widget-view+json": {
              "version_major": 2,
              "version_minor": 0,
              "model_id": "a0b538fb42914405a3d412498b4971a7"
            }
          },
          "metadata": {}
        }
      ]
    },
    {
      "cell_type": "code",
      "source": [
        "def plot_images(\n",
        "    tensors,\n",
        "):\n",
        "    \"\"\"\n",
        "    Plot normalised MNIST tensors as images\n",
        "    \"\"\"\n",
        "    fig = plt.figure(figsize=(10, 5))\n",
        "\n",
        "    n_tensors = len(tensors)\n",
        "    n_cols = min(n_tensors, 4)\n",
        "    n_rows = int((n_tensors - 1) / 4) + 1\n",
        "\n",
        "    # De-normalise an MNIST tensor\n",
        "    mu = torch.tensor([0.1307], dtype=torch.float32)\n",
        "    sigma = torch.tensor([0.3081], dtype=torch.float32)\n",
        "    Unnormalise = transforms.Normalize((-mu / sigma).tolist(), (1.0 / sigma).tolist())\n",
        "\n",
        "    for row in range(n_rows):\n",
        "        for col in range(n_cols):\n",
        "            idx = n_cols * row + col\n",
        "\n",
        "            if idx > n_tensors - 1:\n",
        "                break\n",
        "\n",
        "            ax = fig.add_subplot(n_rows, n_cols, idx + 1)\n",
        "            tensor = Unnormalise(tensors[idx])\n",
        "\n",
        "            # Clip image values to plot\n",
        "            tensor[tensor < 0] = 0\n",
        "            tensor[tensor > 1] = 1\n",
        "\n",
        "            tensor = tensor.squeeze(0)  # remove batch dim\n",
        "\n",
        "            ax.imshow(transforms.ToPILImage()(tensor), interpolation=\"bicubic\")\n",
        "\n",
        "    plt.tight_layout()\n",
        "    plt.show()"
      ],
      "metadata": {
        "id": "B1mJb-wSVJvE"
      },
      "execution_count": null,
      "outputs": []
    },
    {
      "cell_type": "code",
      "source": [
        "def attack(attack_model, target_model, dataset, idxs):\n",
        "    images = []\n",
        "\n",
        "    for datum_idx in idxs:\n",
        "        actual_image, _ = dataset[datum_idx]\n",
        "\n",
        "        with torch.no_grad():\n",
        "            target_output = target_model.mobile_stage(actual_image.unsqueeze(0))\n",
        "            reconstructed_image = attack_model(target_output).squeeze(0)\n",
        "\n",
        "        images.append(actual_image)\n",
        "        images.append(reconstructed_image)\n",
        "\n",
        "    plot_images(images)"
      ],
      "metadata": {
        "id": "i3RZjeseVRNE"
      },
      "execution_count": null,
      "outputs": []
    },
    {
      "cell_type": "code",
      "source": [
        "attack(attacker, target_model, test_data, range(6))"
      ],
      "metadata": {
        "colab": {
          "base_uri": "https://localhost:8080/",
          "height": 506
        },
        "id": "x1Ei9J_qVSZw",
        "outputId": "ff07fb57-2157-42c5-80e6-e113dd667a04"
      },
      "execution_count": null,
      "outputs": [
        {
          "output_type": "display_data",
          "data": {
            "text/plain": [
              "<Figure size 1000x500 with 12 Axes>"
            ],
            "image/png": "[encoded data removed]"
          },
          "metadata": {}
        }
      ]
    },
    {
      "cell_type": "markdown",
      "source": [
        "# Discussion of Results\n",
        "\n",
        "## Information Collected on Training Data:\n",
        "\n",
        "From the results displayed in the images, we can infer that the model inversion attack was successful to some degree.\n",
        "\n",
        "1. **Visual Patterns**: The shapes and general patterns of the digits are visible, meaning that the attack could reconstruct the visual style of the digits.\n",
        "2. **Data Complexity**: The varying levels of clarity in the reconstructed images may suggest which digits the model had more or less data on, potentially exposing imbalances or biases in the training data.\n",
        "\n",
        "## Detrimental to Data Privacy\n",
        "\n",
        "1. **Exposure of Personal Data**: If the inversion attack were used on a model trained on personal images, it could potentially reconstruct those images, leading to a breach of personal privacy.\n",
        "2. **Economic Exploitation**: In the case of proprietary datasets, the reconstructed data could be used to train other models without consent.\n",
        "3. **Targeted Model Attacks**: Knowledge of the training data can facilitate more sophisticated attacks, like crafting specific adversarial examples that the model is likely to misclassify.\n",
        "4. **Regulatory Non-Compliance**: Entities that are legally required to protect personal data could face penalties if it's shown that their models are susceptible to inversion attacks."
      ],
      "metadata": {
        "id": "3BbWAsJryuYJ"
      }
    },
    {
      "cell_type": "markdown",
      "source": [
        "# Defenses Against Model Inversion Attacks\n",
        "\n",
        "## Strategies Employed by Others\n",
        "\n",
        "1. **Output Perturbation**: Introducing random noise to the model's outputs can prevent accurate reconstructions.\n",
        "\n",
        "2. **Dimensionality Reduction**: Reducing the dimensionality of the output data can make it more difficult to reconstruct the input while still preserving the utility for the intended classification task.\n",
        "\n",
        "3. **Regularization Techniques**: Using techniques such as dropout can prevent the model from learning a precise inverse mapping of its inputs, making it more robust against inversion attacks.\n",
        "\n",
        "4. **Model Architecture Adjustments**: Designing models that inherently do not retain enough detailed information about their inputs in their intermediate outputs can prevent inversion.\n",
        "\n",
        "5. **Differential Privacy**: Implementing a differentially private mechanism to the model's training process can provide a theoretical guarantee against reconstructing individual data points.\n",
        "\n",
        "6. **Homomorphic Encryption**: Encrypting inputs and only allowing encrypted computation can prevent the model from ever accessing actual data in a readable format.\n",
        "\n",
        "#### Personal Approach to Defense\n",
        "\n",
        "If I were to defend against such an attack, my strategy would include a multi-layered approach:\n",
        "\n",
        "1. **Implement Differential Privacy**: Apply differential privacy during the training process to ensure that the model's output does not reveal information about individual training instances.\n",
        "\n",
        "2. **Adopt Access Control Mechanisms**: Limit the number of queries that an individual can make and monitor for suspicious patterns that might indicate an attack is being attempted.\n",
        "\n",
        "3. **Data Sanitization**: Before training, preprocess data to remove unnecessary features that could lead to privacy leaks.\n",
        "\n",
        "4. **Enhanced Data Security**: Beyond model-specific defenses, ensuring that the data used for training the model is stored and handled securely is fundamental. This includes secure data storage, handling protocols, and strict access controls."
      ],
      "metadata": {
        "id": "5-rU_AdW1jax"
      }
    },
    {
      "cell_type": "code",
      "source": [
        "pip install torch torchvision opacus"
      ],
      "metadata": {
        "colab": {
          "base_uri": "https://localhost:8080/"
        },
        "id": "U5Mt1XEz2k65",
        "outputId": "17062b8c-1bbe-40e0-bb2c-8860852b4841"
      },
      "execution_count": null,
      "outputs": [
        {
          "output_type": "stream",
          "name": "stdout",
          "text": [
            "Requirement already satisfied: torch in /usr/local/lib/python3.10/dist-packages (2.2.1+cu121)\n",
            "Requirement already satisfied: torchvision in /usr/local/lib/python3.10/dist-packages (0.17.1+cu121)\n",
            "Collecting opacus\n",
            "  Downloading opacus-1.4.1-py3-none-any.whl (226 kB)\n",
            "\u001b[2K     \u001b[90m━━━━━━━━━━━━━━━━━━━━━━━━━━━━━━━━━━━━━━━━\u001b[0m \u001b[32m226.7/226.7 kB\u001b[0m \u001b[31m3.4 MB/s\u001b[0m eta \u001b[36m0:00:00\u001b[0m\n",
            "\u001b[?25hRequirement already satisfied: filelock in /usr/local/lib/python3.10/dist-packages (from torch) (3.13.4)\n",
            "Requirement already satisfied: typing-extensions>=4.8.0 in /usr/local/lib/python3.10/dist-packages (from torch) (4.11.0)\n",
            "Requirement already satisfied: sympy in /usr/local/lib/python3.10/dist-packages (from torch) (1.12)\n",
            "Requirement already satisfied: networkx in /usr/local/lib/python3.10/dist-packages (from torch) (3.3)\n",
            "Requirement already satisfied: jinja2 in /usr/local/lib/python3.10/dist-packages (from torch) (3.1.3)\n",
            "Requirement already satisfied: fsspec in /usr/local/lib/python3.10/dist-packages (from torch) (2023.6.0)\n",
            "Collecting nvidia-cuda-nvrtc-cu12==12.1.105 (from torch)\n",
            "  Using cached nvidia_cuda_nvrtc_cu12-12.1.105-py3-none-manylinux1_x86_64.whl (23.7 MB)\n",
            "Collecting nvidia-cuda-runtime-cu12==12.1.105 (from torch)\n",
            "  Using cached nvidia_cuda_runtime_cu12-12.1.105-py3-none-manylinux1_x86_64.whl (823 kB)\n",
            "Collecting nvidia-cuda-cupti-cu12==12.1.105 (from torch)\n",
            "  Using cached nvidia_cuda_cupti_cu12-12.1.105-py3-none-manylinux1_x86_64.whl (14.1 MB)\n",
            "Collecting nvidia-cudnn-cu12==8.9.2.26 (from torch)\n",
            "  Using cached nvidia_cudnn_cu12-8.9.2.26-py3-none-manylinux1_x86_64.whl (731.7 MB)\n",
            "Collecting nvidia-cublas-cu12==12.1.3.1 (from torch)\n",
            "  Using cached nvidia_cublas_cu12-12.1.3.1-py3-none-manylinux1_x86_64.whl (410.6 MB)\n",
            "Collecting nvidia-cufft-cu12==11.0.2.54 (from torch)\n",
            "  Using cached nvidia_cufft_cu12-11.0.2.54-py3-none-manylinux1_x86_64.whl (121.6 MB)\n",
            "Collecting nvidia-curand-cu12==10.3.2.106 (from torch)\n",
            "  Using cached nvidia_curand_cu12-10.3.2.106-py3-none-manylinux1_x86_64.whl (56.5 MB)\n",
            "Collecting nvidia-cusolver-cu12==11.4.5.107 (from torch)\n",
            "  Using cached nvidia_cusolver_cu12-11.4.5.107-py3-none-manylinux1_x86_64.whl (124.2 MB)\n",
            "Collecting nvidia-cusparse-cu12==12.1.0.106 (from torch)\n",
            "  Using cached nvidia_cusparse_cu12-12.1.0.106-py3-none-manylinux1_x86_64.whl (196.0 MB)\n",
            "Collecting nvidia-nccl-cu12==2.19.3 (from torch)\n",
            "  Using cached nvidia_nccl_cu12-2.19.3-py3-none-manylinux1_x86_64.whl (166.0 MB)\n",
            "Collecting nvidia-nvtx-cu12==12.1.105 (from torch)\n",
            "  Using cached nvidia_nvtx_cu12-12.1.105-py3-none-manylinux1_x86_64.whl (99 kB)\n",
            "Requirement already satisfied: triton==2.2.0 in /usr/local/lib/python3.10/dist-packages (from torch) (2.2.0)\n",
            "Collecting nvidia-nvjitlink-cu12 (from nvidia-cusolver-cu12==11.4.5.107->torch)\n",
            "  Using cached nvidia_nvjitlink_cu12-12.4.127-py3-none-manylinux2014_x86_64.whl (21.1 MB)\n",
            "Requirement already satisfied: numpy in /usr/local/lib/python3.10/dist-packages (from torchvision) (1.25.2)\n",
            "Requirement already satisfied: pillow!=8.3.*,>=5.3.0 in /usr/local/lib/python3.10/dist-packages (from torchvision) (9.4.0)\n",
            "Requirement already satisfied: scipy>=1.2 in /usr/local/lib/python3.10/dist-packages (from opacus) (1.11.4)\n",
            "Requirement already satisfied: opt-einsum>=3.3.0 in /usr/local/lib/python3.10/dist-packages (from opacus) (3.3.0)\n",
            "Requirement already satisfied: MarkupSafe>=2.0 in /usr/local/lib/python3.10/dist-packages (from jinja2->torch) (2.1.5)\n",
            "Requirement already satisfied: mpmath>=0.19 in /usr/local/lib/python3.10/dist-packages (from sympy->torch) (1.3.0)\n",
            "Installing collected packages: nvidia-nvtx-cu12, nvidia-nvjitlink-cu12, nvidia-nccl-cu12, nvidia-curand-cu12, nvidia-cufft-cu12, nvidia-cuda-runtime-cu12, nvidia-cuda-nvrtc-cu12, nvidia-cuda-cupti-cu12, nvidia-cublas-cu12, nvidia-cusparse-cu12, nvidia-cudnn-cu12, nvidia-cusolver-cu12, opacus\n",
            "Successfully installed nvidia-cublas-cu12-12.1.3.1 nvidia-cuda-cupti-cu12-12.1.105 nvidia-cuda-nvrtc-cu12-12.1.105 nvidia-cuda-runtime-cu12-12.1.105 nvidia-cudnn-cu12-8.9.2.26 nvidia-cufft-cu12-11.0.2.54 nvidia-curand-cu12-10.3.2.106 nvidia-cusolver-cu12-11.4.5.107 nvidia-cusparse-cu12-12.1.0.106 nvidia-nccl-cu12-2.19.3 nvidia-nvjitlink-cu12-12.4.127 nvidia-nvtx-cu12-12.1.105 opacus-1.4.1\n"
          ]
        }
      ]
    },
    {
      "cell_type": "code",
      "source": [
        "import torch\n",
        "from torchvision import datasets, transforms\n",
        "from torch.utils.data import DataLoader\n",
        "from opacus import PrivacyEngine\n",
        "\n",
        "\n",
        "train_loader = DataLoader(train_data, batch_size=256, shuffle=True)\n",
        "\n",
        "# Initialize your model\n",
        "# The first part of the network\n",
        "first_network = torch.nn.Sequential(\n",
        "                torch.nn.Conv2d(1, 32, kernel_size=5, padding=0, stride=1),  # first Conv layer\n",
        "                torch.nn.ReLU(),\n",
        "                torch.nn.MaxPool2d(kernel_size=2),\n",
        "                torch.nn.Conv2d(32, 32, kernel_size=5, padding=0, stride=1),  # second Conv layer\n",
        "                torch.nn.ReLU(),\n",
        "                torch.nn.MaxPool2d(kernel_size=2),\n",
        "        )\n",
        "\n",
        "\n",
        "# The second and final part of the network\n",
        "second_network = torch.nn.Sequential(\n",
        "                torch.nn.Linear(512, 256),\n",
        "                torch.nn.ReLU(),\n",
        "                torch.nn.Linear(256, 10),  # 10-class output\n",
        "                torch.nn.Softmax(dim=-1),\n",
        "        )\n",
        "\n",
        "model = Classifier(first_network, second_network)\n",
        "\n",
        "# Define optimizer and loss function\n",
        "optimizer = torch.optim.Adam(model.parameters(), lr=1e-4)\n",
        "loss_function = torch.nn.CrossEntropyLoss()\n",
        "\n",
        "# Attach a Privacy Engine to the optimizer\n",
        "# Create a PrivacyEngine\n",
        "privacy_engine = PrivacyEngine()\n",
        "\n",
        "# Attach the PrivacyEngine to the optimizer\n",
        "model, optimizer, train_loader = privacy_engine.make_private_with_epsilon(\n",
        "    module=model,\n",
        "    optimizer=optimizer,\n",
        "    data_loader=train_loader,\n",
        "    epochs=10,\n",
        "    target_epsilon=1.0,  # Set target epsilon\n",
        "    target_delta=1e-5,  # Set target delta\n",
        "    max_grad_norm=1.0   # Set the maximum per-sample gradient norm\n",
        ")\n",
        "\n",
        "# Train model\n",
        "for epoch in range(10):\n",
        "    print(\"epoch 1\")\n",
        "    for inputs, labels in train_loader:\n",
        "        # Forward pass\n",
        "        outputs = model(inputs)\n",
        "        loss = loss_function(outputs, labels)\n",
        "\n",
        "        # Backward pass and optimization with differential privacy\n",
        "        optimizer.zero_grad()\n",
        "        loss.backward()\n",
        "        optimizer.step()\n"
      ],
      "metadata": {
        "colab": {
          "base_uri": "https://localhost:8080/"
        },
        "id": "0lif6mPu2men",
        "outputId": "6ba44bad-f7c9-4f6e-a8ce-6671b7eafd85"
      },
      "execution_count": null,
      "outputs": [
        {
          "output_type": "stream",
          "name": "stderr",
          "text": [
            "/usr/local/lib/python3.10/dist-packages/opacus/privacy_engine.py:95: UserWarning: Secure RNG turned off. This is perfectly fine for experimentation as it allows for much faster training performance, but remember to turn it on and retrain one last time before production with ``secure_mode`` turned on.\n",
            "  warnings.warn(\n",
            "/usr/local/lib/python3.10/dist-packages/opacus/accountants/analysis/rdp.py:332: UserWarning: Optimal order is the largest alpha. Please consider expanding the range of alphas to get a tighter privacy bound.\n",
            "  warnings.warn(\n"
          ]
        },
        {
          "output_type": "stream",
          "name": "stdout",
          "text": [
            "epoch 1\n"
          ]
        },
        {
          "output_type": "stream",
          "name": "stderr",
          "text": [
            "/usr/local/lib/python3.10/dist-packages/torch/nn/modules/module.py:1352: UserWarning: Using a non-full backward hook when the forward contains multiple autograd Nodes is deprecated and will be removed in future versions. This hook will be missing some grad_input. Please use register_full_backward_hook to get the documented behavior.\n",
            "  warnings.warn(\"Using a non-full backward hook when the forward contains multiple autograd Nodes \"\n"
          ]
        },
        {
          "output_type": "stream",
          "name": "stdout",
          "text": [
            "epoch 1\n",
            "epoch 1\n",
            "epoch 1\n",
            "epoch 1\n",
            "epoch 1\n",
            "epoch 1\n",
            "epoch 1\n",
            "epoch 1\n",
            "epoch 1\n"
          ]
        }
      ]
    },
    {
      "cell_type": "code",
      "source": [
        "from sklearn.metrics import accuracy_score, precision_recall_fscore_support\n",
        "import numpy as np\n",
        "\n",
        "def evaluate_model(model, test_loader):\n",
        "    model.eval()  # Set the model to evaluation mode\n",
        "    true_labels = []\n",
        "    pred_labels = []\n",
        "\n",
        "    with torch.no_grad():  # Inference without gradient calculation\n",
        "        for inputs, labels in test_loader:\n",
        "            outputs = model(inputs)\n",
        "            _, predicted = torch.max(outputs, 1)\n",
        "\n",
        "            true_labels.extend(labels.numpy())\n",
        "            pred_labels.extend(predicted.numpy())\n",
        "\n",
        "    # Calculate metrics\n",
        "    accuracy = accuracy_score(true_labels, pred_labels)\n",
        "    precision, recall, f1, _ = precision_recall_fscore_support(true_labels, pred_labels, average='macro')\n",
        "\n",
        "    return accuracy, precision, recall, f1\n",
        "\n",
        "# Load test data\n",
        "test_loader = DataLoader(test_data, batch_size=256, shuffle=False)\n",
        "\n",
        "# Evaluate the model\n",
        "accuracy, precision, recall, f1 = evaluate_model(model, test_loader)\n",
        "\n",
        "# Print out the metrics\n",
        "print(f'Accuracy: {accuracy:.4f}')\n",
        "print(f'Precision: {precision:.4f}')\n",
        "print(f'Recall: {recall:.4f}')\n",
        "print(f'F1-Score: {f1:.4f}')\n"
      ],
      "metadata": {
        "colab": {
          "base_uri": "https://localhost:8080/"
        },
        "id": "S3xHlD4b25aj",
        "outputId": "5a1d74af-6c4a-479f-b6a5-6a84283f24cc"
      },
      "execution_count": null,
      "outputs": [
        {
          "output_type": "stream",
          "name": "stdout",
          "text": [
            "Accuracy: 0.6944\n",
            "Precision: 0.7665\n",
            "Recall: 0.6833\n",
            "F1-Score: 0.6396\n"
          ]
        }
      ]
    },
    {
      "cell_type": "markdown",
      "source": [
        "# Evaluation of Defense\n",
        "\n",
        "## Defense Description\n",
        "**Differential Privacy (DP)** was integrated into the training process of the model using Opacus. This approach adds noise to the gradients during training to ensure that the output of the model cannot be used to infer much about the data on which it was trained. The goal is to prevent attackers from successfully reconstructing the input data, thereby protecting data privacy.\n",
        "\n",
        "The specific settings for DP included:\n",
        "- **Noise Multiplier**: Determines the amount of noise added to gradients during training.\n",
        "- **Max Gradient Norm**: Controls gradient clipping to prevent any single data point from having a disproportionate impact on the model's parameters.\n",
        "- **Epsilon (ε) and Delta (δ)**: Quantify the privacy guarantee, with lower values of ε offering stronger privacy.\n",
        "\n",
        "### Model Metrics Post-Defense\n",
        "- **Accuracy**: 67.36%\n",
        "- **Precision**: 73.58%\n",
        "- **Recall**: 66.50%\n",
        "- **F1-Score**: 64.19%\n",
        "\n",
        "These metrics suggest a noticeable drop in model performance compared to typical results without privacy-preserving measures, where an MNIST classifier might achieve over 95% accuracy. This decrease is a trade-off for increased privacy protection.\n",
        "\n",
        "### Evaluation of Effectiveness Against the Attack\n",
        "\n",
        "1. **Privacy vs. Utility Trade-off**: The introduced noise and the clipping of gradients inherently degrade the model’s performance but increase privacy. This trade-off is critical and should be balanced based on the sensitivity of the data and the acceptable threshold for model accuracy in its intended application.\n",
        "\n",
        "2. **Inversion Attack Resistance**: With differential privacy, the model’s output becomes less informative about any specific input instance, which should theoretically reduce the effectiveness of model inversion attacks. The added noise helps ensure that the gradients do not reveal substantial information about any individual training example.\n",
        "\n",
        "3. **Compliance and Ethical Considerations**: Implementing DP assists in complying with data protection regulations like GDPR, which might require proof that reasonable measures have been taken to protect user data."
      ],
      "metadata": {
        "id": "lHMtS2ko7wyD"
      }
    },
    {
      "cell_type": "markdown",
      "source": [
        "Matt Fredrikson, Somesh Jha, and Thomas Ristenpart. 2015. Model Inversion Attacks that Exploit Confidence Information and Basic Countermeasures. In Proceedings of the 22nd ACM SIGSAC Conference on Computer and Communications Security (CCS '15). Association for Computing Machinery, New York, NY, USA, 1322–1333. DOI:https://doi.org/10.1145/2810103.2813677"
      ],
      "metadata": {
        "id": "stHWGsClzI7o"
      }
    }
  ]
}